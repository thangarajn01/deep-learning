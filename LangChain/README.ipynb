{
 "cells": [
  {
   "cell_type": "markdown",
   "id": "4b31551c",
   "metadata": {},
   "source": [
    "# LangChain Exercises\n",
    "\n",
    "This repository contains exercises adapted from the educational content by [Coding Crashkurse](https://github.com/Coding-Crashkurse), [LangChain Documentation](https://python.langchain.com/docs/introduction/), [LangGraph Documentation](https://langchain-ai.github.io/langgraph/) and LangChain Video Series.\n",
    "\n",
    "## Reference Links\n",
    "\n",
    "* [Embedding Models](https://python.langchain.com/docs/integrations/text_embedding/)\n",
    "* [Document Loaders](https://python.langchain.com/docs/integrations/document_loaders/)\n",
    "* [Text Splitters](https://python.langchain.com/docs/concepts/text_splitters/)\n",
    "* [Vector Stores](https://python.langchain.com/docs/integrations/vectorstores/)\n",
    "\n",
    "* [Building Effective Agents](https://www.anthropic.com/engineering/building-effective-agents)\n",
    "\n",
    "### LangChain Courses\n",
    "\n",
    "* [Introduction to LangGraph](https://academy.langchain.com/courses/intro-to-langgraph)\n",
    "* [Introduction to LangSmith](https://academy.langchain.com/courses/intro-to-langsmith)\n",
    "\n",
    "# Setup\n",
    "## Create Environment"
   ]
  },
  {
   "cell_type": "code",
   "execution_count": null,
   "id": "27857cf6",
   "metadata": {
    "vscode": {
     "languageId": "plaintext"
    }
   },
   "outputs": [],
   "source": [
    "python3 -m venv langchain_env\n",
    "source langchain_env/bin/activate  # Windows: langchain_env\\Scripts\\activate"
   ]
  },
  {
   "cell_type": "markdown",
   "id": "7e321186",
   "metadata": {},
   "source": [
    "## Install Dependencies"
   ]
  },
  {
   "cell_type": "code",
   "execution_count": null,
   "id": "5d87ad4d",
   "metadata": {
    "vscode": {
     "languageId": "plaintext"
    }
   },
   "outputs": [],
   "source": [
    "pip install -r requirements.txt"
   ]
  },
  {
   "cell_type": "markdown",
   "id": "c7c9c26e",
   "metadata": {},
   "source": [
    "## Environment Configuration"
   ]
  },
  {
   "cell_type": "code",
   "execution_count": null,
   "id": "c95c533a",
   "metadata": {
    "vscode": {
     "languageId": "plaintext"
    }
   },
   "outputs": [],
   "source": [
    "OPENAI_API_KEY=your_openai_api_key_here\n",
    "ANTHROPIC_API_KEY=your_anthropic_api_key_here\n",
    "GOOGLE_API_KEY=your_google_api_key_here\n",
    "HUGGINGFACE_API_TOKEN=your_huggingface_token_here\n",
    "LANGCHAIN_API_KEY=your_langchain_api_key_here"
   ]
  },
  {
   "cell_type": "markdown",
   "id": "0f8cd03a",
   "metadata": {},
   "source": []
  }
 ],
 "metadata": {
  "language_info": {
   "name": "python"
  }
 },
 "nbformat": 4,
 "nbformat_minor": 5
}
